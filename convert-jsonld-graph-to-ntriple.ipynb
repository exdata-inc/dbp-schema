{
 "cells": [
  {
   "cell_type": "code",
   "execution_count": null,
   "metadata": {},
   "outputs": [],
   "source": [
    "import json\n",
    "import re\n",
    "\n",
    "url_pattern = \"https?://[\\w/:%#\\$&\\?\\(\\)~\\.=\\+\\-]+\"\n",
    "\n",
    "with open(\"./dbp-schema.jsonld\", \"r\") as f:\n",
    "    jsonld_graph = json.load(f)\n",
    "\n",
    "contexts = jsonld_graph['@context']\n",
    "contexts['rdf'] = 'http://www.w3.org/1999/02/22-rdf-syntax-ns#'\n",
    "print(contexts)\n",
    "\n",
    "def chincha(sbj, obj):\n",
    "    out = []\n",
    "    if type(obj) == list:\n",
    "        for oobj in obj:\n",
    "            out.extend(chincha(sbj, oobj))\n",
    "    else:\n",
    "        if type(obj) == dict:\n",
    "            obj = obj['@id']\n",
    "        for k, v in contexts.items():\n",
    "            obj = obj.replace(k+':', v)\n",
    "        if re.match(url_pattern, obj):\n",
    "            out.append(\"<\" + sbj + \"> <\" + vrb + \"> <\" + obj + \"> .\")\n",
    "        else:  \n",
    "            out.append(\"<\" + sbj + \"> <\" + vrb + \"> \\\"\" + obj + \"\\\" .\")\n",
    "    return out\n",
    "\n",
    "result = []\n",
    "\n",
    "for itm in jsonld_graph['@graph']:\n",
    "    sbj = itm['@id']\n",
    "    for k, v in contexts.items():\n",
    "        sbj = sbj.replace(k+':', v)   \n",
    "    print(sbj, itm)\n",
    "    for k, v in itm.items():\n",
    "        vrb = k\n",
    "        obj = v\n",
    "        if k == '@id':\n",
    "            continue\n",
    "        if k == '@type':\n",
    "            vrb = 'http://www.w3.org/1999/02/22-rdf-syntax-ns#type'\n",
    "        else:\n",
    "            for k, v in contexts.items():\n",
    "                vrb = vrb.replace(k+':', v)\n",
    "        result.extend(chincha(sbj, obj))\n",
    "\n",
    "with open(\"./dbp-schema.nt\", \"w\") as f:\n",
    "    for line in result:\n",
    "        f.write(line+\"\\n\")\n"
   ]
  }
 ],
 "metadata": {
  "kernelspec": {
   "display_name": "Python 3",
   "language": "python",
   "name": "python3"
  },
  "language_info": {
   "codemirror_mode": {
    "name": "ipython",
    "version": 3
   },
   "file_extension": ".py",
   "mimetype": "text/x-python",
   "name": "python",
   "nbconvert_exporter": "python",
   "pygments_lexer": "ipython3",
   "version": "3.11.3"
  },
  "orig_nbformat": 4
 },
 "nbformat": 4,
 "nbformat_minor": 2
}
